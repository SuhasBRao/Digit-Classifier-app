{
  "nbformat": 4,
  "nbformat_minor": 0,
  "metadata": {
    "colab": {
      "name": "Digit_Classifier.ipynb",
      "provenance": [],
      "collapsed_sections": [],
      "authorship_tag": "ABX9TyPVrPeFPCJgsFcc3eCR6RGI",
      "include_colab_link": true
    },
    "kernelspec": {
      "name": "python3",
      "display_name": "Python 3"
    },
    "language_info": {
      "name": "python"
    }
  },
  "cells": [
    {
      "cell_type": "markdown",
      "metadata": {
        "id": "view-in-github",
        "colab_type": "text"
      },
      "source": [
        "<a href=\"https://colab.research.google.com/github/SuhasBRao/Digit-Classifier-app/blob/main/Digit_Classifier.ipynb\" target=\"_parent\"><img src=\"https://colab.research.google.com/assets/colab-badge.svg\" alt=\"Open In Colab\"/></a>"
      ]
    },
    {
      "cell_type": "code",
      "execution_count": 1,
      "metadata": {
        "id": "GoinpDof8t4n"
      },
      "outputs": [],
      "source": [
        "#### PACKAGE IMPORTS ####\n",
        "\n",
        "# Run this cell first to import all required packages. Do not make any imports elsewhere in the notebook\n",
        "\n",
        "import tensorflow as tf\n",
        "import pandas as pd\n",
        "import numpy as np\n",
        "import matplotlib.pyplot as plt\n",
        "%matplotlib inline"
      ]
    },
    {
      "cell_type": "code",
      "source": [
        "# Run this cell to load the MNIST data\n",
        "\n",
        "mnist_data = tf.keras.datasets.mnist\n",
        "(train_images, train_labels), (test_images, test_labels) = mnist_data.load_data()"
      ],
      "metadata": {
        "id": "Pa6gFQhE85Fw"
      },
      "execution_count": 2,
      "outputs": []
    },
    {
      "cell_type": "code",
      "source": [
        "print(train_images.shape)"
      ],
      "metadata": {
        "colab": {
          "base_uri": "https://localhost:8080/"
        },
        "id": "8zyirTKOkpmo",
        "outputId": "480c8fd7-e86e-4f6b-94e7-8563972cb9ad"
      },
      "execution_count": 3,
      "outputs": [
        {
          "output_type": "stream",
          "name": "stdout",
          "text": [
            "(60000, 28, 28)\n"
          ]
        }
      ]
    },
    {
      "cell_type": "code",
      "source": [
        "def scale_mnist_data(train_images, test_images):\n",
        "    \"\"\"\n",
        "    This function takes in the training and test images as loaded in the cell above, and scales them\n",
        "    so that they have minimum and maximum values equal to 0 and 1 respectively.\n",
        "    Your function should return a tuple (train_images, test_images) of scaled training and test images.\n",
        "    \"\"\"\n",
        "    train_images = train_images / 255.\n",
        "    test_images = test_images / 255.\n",
        "    return (train_images, test_images)"
      ],
      "metadata": {
        "id": "HXi8xjcb88RJ"
      },
      "execution_count": 4,
      "outputs": []
    },
    {
      "cell_type": "code",
      "source": [
        "# Run your function on the input data\n",
        "\n",
        "scaled_train_images, scaled_test_images = scale_mnist_data(train_images, test_images)"
      ],
      "metadata": {
        "id": "ObCGPi189AGe"
      },
      "execution_count": 5,
      "outputs": []
    },
    {
      "cell_type": "code",
      "source": [
        "# Add a dummy channel dimension\n",
        "\n",
        "scaled_train_images = scaled_train_images[..., np.newaxis]\n",
        "scaled_test_images = scaled_test_images[..., np.newaxis]"
      ],
      "metadata": {
        "id": "Kyf_hqkl9CQS"
      },
      "execution_count": 6,
      "outputs": []
    },
    {
      "cell_type": "code",
      "source": [
        "# plt.imshow(test_images[6],cmap='gray')\n",
        "# print(test_labels[6])\n",
        "# display all the images with differnt labels\n",
        "\n",
        "from matplotlib import pyplot\n",
        "for i in range(9):  \n",
        "  pyplot.subplot(330 + 1 + i)\n",
        "  pyplot.imshow(train_images[i], cmap=pyplot.get_cmap('gray'))\n",
        "pyplot.show()"
      ],
      "metadata": {
        "colab": {
          "base_uri": "https://localhost:8080/",
          "height": 268
        },
        "id": "CzdSxeLWol-M",
        "outputId": "98546ae7-124c-48d3-b748-d3d339369e6c"
      },
      "execution_count": 7,
      "outputs": [
        {
          "output_type": "display_data",
          "data": {
            "image/png": "[encoded data removed]",
            "text/plain": [
              "<Figure size 432x288 with 9 Axes>"
            ]
          },
          "metadata": {
            "needs_background": "light"
          }
        }
      ]
    },
    {
      "cell_type": "code",
      "source": [
        "# train_images = train_images[..., np.newaxis]\n",
        "# test_images = test_images[..., np.newaxis]"
      ],
      "metadata": {
        "id": "0WnslEVHoY1k"
      },
      "execution_count": 12,
      "outputs": []
    },
    {
      "cell_type": "code",
      "source": [
        "print(scaled_train_images.shape)"
      ],
      "metadata": {
        "colab": {
          "base_uri": "https://localhost:8080/"
        },
        "id": "A34wbVmck9pc",
        "outputId": "83d24ce7-d7ae-42c4-a35a-b7b576d32ca9"
      },
      "execution_count": 8,
      "outputs": [
        {
          "output_type": "stream",
          "name": "stdout",
          "text": [
            "(60000, 28, 28, 1)\n"
          ]
        }
      ]
    },
    {
      "cell_type": "code",
      "source": [
        "def get_model(input_shape):\n",
        "    \"\"\"\n",
        "    This function should build a Sequential model according to the above specification. Ensure the \n",
        "    weights are initialised by providing the input_shape argument in the first layer, given by the\n",
        "    function argument.\n",
        "    Your function should return the model.\n",
        "    \"\"\"\n",
        "    model = tf.keras.Sequential()\n",
        "    \n",
        "    model.add(tf.keras.layers.Conv2D(32, kernel_size = (3,3), \\\n",
        "                activation = 'relu', padding = 'same', input_shape = input_shape))\n",
        "    model.add(tf.keras.layers.MaxPool2D((2,2)))\n",
        "\n",
        "    model.add(tf.keras.layers.Conv2D(64, kernel_size = (3,3), \\\n",
        "                activation = 'relu', padding = 'same'))\n",
        "    model.add(tf.keras.layers.MaxPool2D((2,2)))\n",
        "    \n",
        "    model.add(tf.keras.layers.Flatten())\n",
        "    model.add(tf.keras.layers.Dense(64, activation = 'relu'))\n",
        "    # model.add(tf.keras.layers.Dense (64, activation = 'relu')) \n",
        "    model.add(tf.keras.layers.Dense(10, activation = 'softmax'))\n",
        "    \n",
        "    return model"
      ],
      "metadata": {
        "id": "pjMOMxaS9D-a"
      },
      "execution_count": 33,
      "outputs": []
    },
    {
      "cell_type": "code",
      "source": [
        "model = get_model(scaled_train_images[0].shape)"
      ],
      "metadata": {
        "id": "b9uSw39e9I_-"
      },
      "execution_count": 42,
      "outputs": []
    },
    {
      "cell_type": "code",
      "source": [
        "model.summary()"
      ],
      "metadata": {
        "colab": {
          "base_uri": "https://localhost:8080/"
        },
        "id": "MagKbbm6UNLk",
        "outputId": "99ee56d6-2ce9-4c5b-8db9-0522988fdc88"
      },
      "execution_count": 43,
      "outputs": [
        {
          "output_type": "stream",
          "name": "stdout",
          "text": [
            "Model: \"sequential_3\"\n",
            "_________________________________________________________________\n",
            " Layer (type)                Output Shape              Param #   \n",
            "=================================================================\n",
            " conv2d_6 (Conv2D)           (None, 28, 28, 32)        320       \n",
            "                                                                 \n",
            " max_pooling2d_6 (MaxPooling  (None, 14, 14, 32)       0         \n",
            " 2D)                                                             \n",
            "                                                                 \n",
            " conv2d_7 (Conv2D)           (None, 14, 14, 64)        18496     \n",
            "                                                                 \n",
            " max_pooling2d_7 (MaxPooling  (None, 7, 7, 64)         0         \n",
            " 2D)                                                             \n",
            "                                                                 \n",
            " flatten_3 (Flatten)         (None, 3136)              0         \n",
            "                                                                 \n",
            " dense_8 (Dense)             (None, 64)                200768    \n",
            "                                                                 \n",
            " dense_9 (Dense)             (None, 10)                650       \n",
            "                                                                 \n",
            "=================================================================\n",
            "Total params: 220,234\n",
            "Trainable params: 220,234\n",
            "Non-trainable params: 0\n",
            "_________________________________________________________________\n"
          ]
        }
      ]
    },
    {
      "cell_type": "code",
      "source": [
        "def compile_model(model):\n",
        "    \"\"\"\n",
        "    This function takes in the model returned from your get_model function, and compiles it with an optimiser,\n",
        "    loss function and metric.\n",
        "    Compile the model using the Adam optimiser (with default settings), the cross-entropy loss function and\n",
        "    accuracy as the only metric. \n",
        "    Your function doesn't need to return anything; the model will be compiled in-place.\n",
        "    \"\"\"\n",
        "    model.compile(optimizer = 'adam', loss = 'sparse_categorical_crossentropy', \n",
        "                 metrics = ['accuracy'])"
      ],
      "metadata": {
        "id": "g88MwUzn9Lhn"
      },
      "execution_count": 44,
      "outputs": []
    },
    {
      "cell_type": "code",
      "source": [
        "# Run your function to compile the model\n",
        "\n",
        "compile_model(model)"
      ],
      "metadata": {
        "id": "AvSAHLHe9PCz"
      },
      "execution_count": 45,
      "outputs": []
    },
    {
      "cell_type": "code",
      "source": [
        "def train_model(model, scaled_train_images, train_labels):\n",
        "    \"\"\"\n",
        "    This function should train the model for 5 epochs on the scaled_train_images and train_labels. \n",
        "    Your function should return the training history, as returned by model.fit.\n",
        "    \"\"\"\n",
        "    history = model.fit(scaled_train_images, train_labels, epochs = 5,  validation_split=0.2, shuffle=True, verbose = 1)\n",
        "\n",
        "    return history"
      ],
      "metadata": {
        "id": "ECMxuI5H9QyG"
      },
      "execution_count": 46,
      "outputs": []
    },
    {
      "cell_type": "code",
      "source": [
        "\n",
        "history = train_model(model, scaled_train_images, train_labels)"
      ],
      "metadata": {
        "colab": {
          "base_uri": "https://localhost:8080/"
        },
        "id": "5JzEMNl19TVP",
        "outputId": "66b91392-56e6-4893-e83e-78bdd4cddb62"
      },
      "execution_count": 47,
      "outputs": [
        {
          "output_type": "stream",
          "name": "stdout",
          "text": [
            "Epoch 1/5\n",
            "1500/1500 [==============================] - 62s 41ms/step - loss: 0.1481 - accuracy: 0.9548 - val_loss: 0.0584 - val_accuracy: 0.9819\n",
            "Epoch 2/5\n",
            "1500/1500 [==============================] - 61s 41ms/step - loss: 0.0510 - accuracy: 0.9846 - val_loss: 0.0503 - val_accuracy: 0.9835\n",
            "Epoch 3/5\n",
            "1500/1500 [==============================] - 60s 40ms/step - loss: 0.0358 - accuracy: 0.9882 - val_loss: 0.0390 - val_accuracy: 0.9888\n",
            "Epoch 4/5\n",
            "1500/1500 [==============================] - 60s 40ms/step - loss: 0.0258 - accuracy: 0.9916 - val_loss: 0.0430 - val_accuracy: 0.9873\n",
            "Epoch 5/5\n",
            "1500/1500 [==============================] - 61s 41ms/step - loss: 0.0194 - accuracy: 0.9936 - val_loss: 0.0385 - val_accuracy: 0.9908\n"
          ]
        }
      ]
    },
    {
      "cell_type": "code",
      "source": [
        "history.history.keys()"
      ],
      "metadata": {
        "colab": {
          "base_uri": "https://localhost:8080/"
        },
        "id": "xPqEaNs8XqeE",
        "outputId": "894571b7-9cbb-4c7a-f220-f829642794f6"
      },
      "execution_count": 48,
      "outputs": [
        {
          "output_type": "execute_result",
          "data": {
            "text/plain": [
              "dict_keys(['loss', 'accuracy', 'val_loss', 'val_accuracy'])"
            ]
          },
          "metadata": {},
          "execution_count": 48
        }
      ]
    },
    {
      "cell_type": "code",
      "source": [
        "plt.plot(history.history['accuracy'])\n",
        "plt.plot(history.history['val_accuracy'])\n",
        "plt.title('model accuracy')\n",
        "plt.ylabel('accuracy')\n",
        "plt.xlabel('epoch')\n",
        "# plt.legend(['train', 'val'], loc='upper left')\n",
        "plt.show()"
      ],
      "metadata": {
        "colab": {
          "base_uri": "https://localhost:8080/",
          "height": 295
        },
        "id": "O-QnuTlNVfmk",
        "outputId": "33bddde9-dcd0-47f8-ce2f-c3ee19cad2f5"
      },
      "execution_count": 49,
      "outputs": [
        {
          "output_type": "display_data",
          "data": {
            "image/png": "[encoded data removed]",
            "text/plain": [
              "<Figure size 432x288 with 1 Axes>"
            ]
          },
          "metadata": {
            "needs_background": "light"
          }
        }
      ]
    },
    {
      "cell_type": "code",
      "source": [
        "def evaluate_model(model, test_images, test_labels):\n",
        "    \"\"\"\n",
        "    This function should evaluate the model on the scaled_test_images and test_labels. \n",
        "    Your function should return a tuple (test_loss, test_accuracy).\n",
        "    \"\"\"\n",
        "    test_loss, test_accuracy = model.evaluate(test_images, test_labels)\n",
        "    return (test_loss, test_accuracy)"
      ],
      "metadata": {
        "id": "opzxyQql9WRe"
      },
      "execution_count": 50,
      "outputs": []
    },
    {
      "cell_type": "code",
      "source": [
        "# Run your function to evaluate the model\n",
        "\n",
        "test_loss, test_accuracy = evaluate_model(model, test_images, test_labels)\n",
        "print(f\"Test loss: {test_loss}\")\n",
        "print(f\"Test accuracy: {test_accuracy}\")"
      ],
      "metadata": {
        "colab": {
          "base_uri": "https://localhost:8080/"
        },
        "id": "UvbPcneW95EW",
        "outputId": "d4e82c35-02df-4e90-c60f-70ebd0fc6d47"
      },
      "execution_count": 51,
      "outputs": [
        {
          "output_type": "stream",
          "name": "stdout",
          "text": [
            "313/313 [==============================] - 4s 13ms/step - loss: 7.5321 - accuracy: 0.9877\n",
            "Test loss: 7.532137393951416\n",
            "Test accuracy: 0.9876999855041504\n"
          ]
        }
      ]
    },
    {
      "cell_type": "code",
      "source": [
        "model.save('ACC_98.77.h5')"
      ],
      "metadata": {
        "id": "3v--SQJu9_9K"
      },
      "execution_count": 52,
      "outputs": []
    },
    {
      "cell_type": "code",
      "source": [
        ""
      ],
      "metadata": {
        "id": "Go0wQl8qmZB4"
      },
      "execution_count": null,
      "outputs": []
    }
  ]
}